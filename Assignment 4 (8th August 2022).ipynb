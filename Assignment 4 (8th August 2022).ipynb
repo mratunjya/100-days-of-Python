{
 "cells": [
  {
   "cell_type": "markdown",
   "metadata": {},
   "source": [
    "# Create a dictionary of student record having keys as student name and marks as\n",
    "## values from two list:\n",
    "### Name - [A, B, C ,D, E]\n",
    "### Marks= values = [[20, 25, 30], [18, 29, 301, [20, 27, 38], [5, 28, 30], [21, 2, 30]]"
   ]
  },
  {
   "cell_type": "code",
   "execution_count": 2,
   "metadata": {},
   "outputs": [
    {
     "name": "stdout",
     "output_type": "stream",
     "text": [
      "{'A': [20, 25, 30], 'B': [18, 29, 30], 'C': [20, 27, 38], 'D': [5, 28, 30], 'E': [21, 2, 30]}\n"
     ]
    }
   ],
   "source": [
    "Name = ['A', 'B', 'C', 'D', 'E']\n",
    "Marks = [[20, 25, 30], [18, 29, 30], [20, 27, 38], [5, 28, 30], [21, 2, 30]]\n",
    "\n",
    "NameMarks = dict(zip(Name, Marks))\n",
    "\n",
    "print(NameMarks)"
   ]
  },
  {
   "cell_type": "markdown",
   "metadata": {},
   "source": [
    "# Find the sum of the marks and print the dictionary."
   ]
  },
  {
   "cell_type": "code",
   "execution_count": 3,
   "metadata": {},
   "outputs": [
    {
     "name": "stdout",
     "output_type": "stream",
     "text": [
      "{'A': 75, 'B': 77, 'C': 85, 'D': 63, 'E': 53}\n"
     ]
    }
   ],
   "source": [
    "NameTotal = dict({})\n",
    "\n",
    "for i in NameMarks:\n",
    "    NameTotal[i] = sum(NameMarks[i])\n",
    "\n",
    "print(NameTotal)"
   ]
  },
  {
   "cell_type": "markdown",
   "metadata": {},
   "source": [
    "# Sort the dictionary based on values in descending order."
   ]
  },
  {
   "cell_type": "code",
   "execution_count": 4,
   "metadata": {},
   "outputs": [
    {
     "name": "stdout",
     "output_type": "stream",
     "text": [
      "{'C': 85, 'B': 77, 'A': 75, 'D': 63, 'E': 53}\n"
     ]
    }
   ],
   "source": [
    "Marks = sorted(NameTotal.values(), reverse = True)\n",
    "\n",
    "SortedDict = dict({})\n",
    "\n",
    "for i in Marks:\n",
    "    for j in NameTotal:\n",
    "        if(NameTotal[j] == i):\n",
    "            SortedDict[j] = i\n",
    "            break\n",
    "\n",
    "print(SortedDict)"
   ]
  },
  {
   "cell_type": "markdown",
   "metadata": {},
   "source": [
    "# Consider a List L = [1, 8, 8, 9, 7, 6, 6, 0, 7, 4, 3, 2, 7]\n",
    "## a. Convert List L into array.\n",
    "## b. Reverse the List using Slicing method and flipud method.\n",
    "## c. Print the size of the array.\n",
    "## d. Sort the array in ascending order.\n",
    "## e. Count the frequency of each element in the array."
   ]
  },
  {
   "cell_type": "code",
   "execution_count": 8,
   "metadata": {},
   "outputs": [
    {
     "name": "stdout",
     "output_type": "stream",
     "text": [
      "List to Array:  [1 8 8 9 7 6 6 0 7 4 3 2 7]\n",
      "Reverse Array:  [7 2 3 4 7 0 6 6 7 9 8 8 1]\n",
      "Sorted Array:  [0 1 2 3 4 6 6 7 7 7 8 8 9]\n",
      "Size of Array:  13\n",
      "Number\tFrequency\n",
      "  0\t  1\n",
      "  1\t  1\n",
      "  2\t  1\n",
      "  3\t  1\n",
      "  4\t  1\n",
      "  6\t  2\n",
      "  7\t  3\n",
      "  8\t  2\n",
      "  9\t  1\n"
     ]
    }
   ],
   "source": [
    "import numpy as np\n",
    "\n",
    "L = [1, 8, 8, 9, 7, 6, 6, 0, 7, 4, 3, 2, 7]\n",
    "\n",
    "LArray = np.array(L)\n",
    "print(f'List to Array: ', LArray)\n",
    "\n",
    "ReverseArray = LArray[ : :-1]\n",
    "print(f'Reverse Array: ', ReverseArray)\n",
    "\n",
    "SortedArray = np.sort(LArray)\n",
    "print(f'Sorted Array: ', SortedArray)\n",
    "\n",
    "print(f'Size of Array: ', LArray.size)\n",
    "\n",
    "NewDict = dict({})\n",
    "\n",
    "for i in SortedArray:\n",
    "    if(i in NewDict):\n",
    "        NewDict[i] = NewDict[i] + 1\n",
    "    else:\n",
    "        NewDict[i] = 1\n",
    "\n",
    "print(\"Number\\tFrequency\")\n",
    "for i in NewDict:\n",
    "    print(f'  {i}\\t  {NewDict[i]}')\n"
   ]
  }
 ],
 "metadata": {
  "kernelspec": {
   "display_name": "Python 3.10.5 64-bit",
   "language": "python",
   "name": "python3"
  },
  "language_info": {
   "codemirror_mode": {
    "name": "ipython",
    "version": 3
   },
   "file_extension": ".py",
   "mimetype": "text/x-python",
   "name": "python",
   "nbconvert_exporter": "python",
   "pygments_lexer": "ipython3",
   "version": "3.10.5"
  },
  "orig_nbformat": 4,
  "vscode": {
   "interpreter": {
    "hash": "6725b65d2bc9b383de4e8ea8d550ee3e56f84680ef7bf6138363b00cd2ed30f8"
   }
  }
 },
 "nbformat": 4,
 "nbformat_minor": 2
}