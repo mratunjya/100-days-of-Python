{
 "cells": [
  {
   "cell_type": "markdown",
   "id": "7a884af3",
   "metadata": {},
   "source": [
    "# Write a python program to find out if the given string is palindrome or not"
   ]
  },
  {
   "cell_type": "code",
   "execution_count": 4,
   "id": "30f8ec9d",
   "metadata": {},
   "outputs": [
    {
     "name": "stdout",
     "output_type": "stream",
     "text": [
      "Entered String is Palindrome\n"
     ]
    }
   ],
   "source": [
    "def isPalindrome(s):\n",
    "    rs = s[::-1]\n",
    "    if(rs == s):\n",
    "        print(\"Entered String is Palindrome\")\n",
    "    else:\n",
    "        print(\"Entered String is NOT Palindrome\")\n",
    "\n",
    "isPalindrome(input('Enter a String: '))"
   ]
  },
  {
   "cell_type": "markdown",
   "id": "c295309e",
   "metadata": {},
   "source": [
    "# Write a program to reverse a string. Transform String into Uppercase, Lowercase, Split, Count, Title, and Slice."
   ]
  },
  {
   "cell_type": "code",
   "execution_count": 6,
   "id": "fa997aa7",
   "metadata": {},
   "outputs": [
    {
     "name": "stdout",
     "output_type": "stream",
     "text": [
      "Reverse of Harsh is a Good Boy is yoB dooG a si hsraH\n",
      "Harsh is a Good Boy in upper case is HARSH IS A GOOD BOY\n",
      "Harsh is a Good Boy in lower case is harsh is a good boy\n",
      "Harsh is a Good Boy in Capitalise case is Harsh is a good boy\n",
      "Harsh is a Good Boy in Title case is Harsh Is A Good Boy\n",
      "Harsh is a Good Boy left side extra space removed Harsh is a Good Boy\n",
      "Harsh is a Good Boy right side extra space removed Harsh is a Good Boy\n",
      "Harsh is a Good Boy both sides extra space removed Harsh is a Good Boy\n"
     ]
    }
   ],
   "source": [
    "def reverse(s):\n",
    "    rs = s[::-1]\n",
    "    print(f'Reverse of {s} is {rs}')\n",
    "\n",
    "def toUpperCase(s):\n",
    "    print(f'{s} in upper case is {s.upper()}')\n",
    "\n",
    "def toLowerCase(s):\n",
    "    print(f'{s} in lower case is {s.lower()}')\n",
    "\n",
    "def toCapitalize(s):\n",
    "    print(f'{s} in Capitalise case is {s.capitalize()}')\n",
    "\n",
    "def toTitle(s):\n",
    "    print(f'{s} in Title case is {s.title()}')\n",
    "\n",
    "def removeExtraSpace(s):\n",
    "    print(f'{s} left side extra space removed {s.lstrip()}')\n",
    "    print(f'{s} right side extra space removed {s.rstrip()}')\n",
    "    print(f'{s} both sides extra space removed {s.strip()}')\n",
    "\n",
    "s = input('Enter a String: ')\n",
    "reverse(s)\n",
    "toUpperCase(s)\n",
    "toLowerCase(s)\n",
    "toCapitalize(s)\n",
    "toTitle(s)\n",
    "removeExtraSpace(s)"
   ]
  }
 ],
 "metadata": {
  "kernelspec": {
   "display_name": "Python 3.10.5 64-bit",
   "language": "python",
   "name": "python3"
  },
  "language_info": {
   "codemirror_mode": {
    "name": "ipython",
    "version": 3
   },
   "file_extension": ".py",
   "mimetype": "text/x-python",
   "name": "python",
   "nbconvert_exporter": "python",
   "pygments_lexer": "ipython3",
   "version": "3.10.5"
  },
  "vscode": {
   "interpreter": {
    "hash": "6725b65d2bc9b383de4e8ea8d550ee3e56f84680ef7bf6138363b00cd2ed30f8"
   }
  }
 },
 "nbformat": 4,
 "nbformat_minor": 5
}
