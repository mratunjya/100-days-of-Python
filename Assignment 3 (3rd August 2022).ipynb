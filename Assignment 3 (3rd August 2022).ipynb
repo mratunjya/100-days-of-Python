{
 "cells": [
  {
   "cell_type": "markdown",
   "metadata": {},
   "source": [
    "# Creating Set of Natural Numbers and Prime Numbers"
   ]
  },
  {
   "cell_type": "code",
   "execution_count": 5,
   "metadata": {},
   "outputs": [
    {
     "name": "stdout",
     "output_type": "stream",
     "text": [
      "Natural Numbers =  {1, 2, 3, 4, 5, 6, 7, 8, 9, 10, 11, 12, 13, 14, 15, 16, 17, 18, 19, 20}\n",
      "Prime Numbers =  {2, 3, 5, 7, 11, 13, 17, 19}\n"
     ]
    }
   ],
   "source": [
    "N = set({})\n",
    "P = set({})\n",
    "\n",
    "for i in range(1, 21):\n",
    "    N.add(i)\n",
    "    if(i > 1):\n",
    "        c = 0\n",
    "        for j in range(2, i):\n",
    "            if(i % j == 0):\n",
    "                c = c + 1\n",
    "                break\n",
    "\n",
    "        if(c == 0):\n",
    "            P.add(i)\n",
    "\n",
    "print(\"Natural Numbers = \", N)\n",
    "print(\"Prime Numbers = \", P)"
   ]
  },
  {
   "cell_type": "markdown",
   "metadata": {},
   "source": [
    "# Set Difference"
   ]
  },
  {
   "cell_type": "code",
   "execution_count": 6,
   "metadata": {},
   "outputs": [
    {
     "name": "stdout",
     "output_type": "stream",
     "text": [
      "Difference =  {1, 4, 6, 8, 9, 10, 12, 14, 15, 16, 18, 20}\n"
     ]
    }
   ],
   "source": [
    "diff = N - P;\n",
    "\n",
    "print(\"Difference = \", diff)"
   ]
  },
  {
   "cell_type": "markdown",
   "metadata": {},
   "source": [
    "# Intersection of Set"
   ]
  },
  {
   "cell_type": "code",
   "execution_count": 7,
   "metadata": {},
   "outputs": [
    {
     "name": "stdout",
     "output_type": "stream",
     "text": [
      "Intersection =  {2, 3, 5, 7, 11, 13, 17, 19}\n"
     ]
    }
   ],
   "source": [
    "intersection = N & P\n",
    "\n",
    "print(\"Intersection = \", intersection)"
   ]
  },
  {
   "cell_type": "markdown",
   "metadata": {},
   "source": [
    "# Union"
   ]
  },
  {
   "cell_type": "code",
   "execution_count": 8,
   "metadata": {},
   "outputs": [
    {
     "name": "stdout",
     "output_type": "stream",
     "text": [
      "Union =  {1, 2, 3, 4, 5, 6, 7, 8, 9, 10, 11, 12, 13, 14, 15, 16, 17, 18, 19, 20}\n"
     ]
    }
   ],
   "source": [
    "union = N | P\n",
    "\n",
    "print(\"Union = \", union)"
   ]
  },
  {
   "cell_type": "markdown",
   "metadata": {},
   "source": [
    "# Count Vowels"
   ]
  },
  {
   "cell_type": "code",
   "execution_count": 10,
   "metadata": {},
   "outputs": [
    {
     "name": "stdout",
     "output_type": "stream",
     "text": [
      "No. of Vowels =  5\n"
     ]
    }
   ],
   "source": [
    "S = set(list(\"National Institute of Technology, Raipur\".lower()))\n",
    "c = 0\n",
    "\n",
    "for ch in S:\n",
    "    if ch == 'a' or ch == 'e' or ch == 'i' or ch == 'o' or ch == 'u':\n",
    "        c += 1\n",
    "\n",
    "print(\"No. of Vowels = \", c)"
   ]
  },
  {
   "cell_type": "markdown",
   "metadata": {},
   "source": [
    "# Convert List into Set and Tuple"
   ]
  },
  {
   "cell_type": "code",
   "execution_count": 12,
   "metadata": {},
   "outputs": [
    {
     "name": "stdout",
     "output_type": "stream",
     "text": [
      "Set =  {2, 6, 7, 8, 9}\n",
      "Tuple =  (2, 9, 8, 7, 2, 6, 8, 2, 6)\n"
     ]
    }
   ],
   "source": [
    "L = [2, 9, 8, 7, 2, 6, 8, 2, 6]\n",
    "\n",
    "LtoS = set(L)\n",
    "LtoT = tuple(L)\n",
    "\n",
    "print(\"Set = \", LtoS)\n",
    "print(\"Tuple = \", LtoT)"
   ]
  },
  {
   "cell_type": "markdown",
   "metadata": {},
   "source": [
    "# Minimum and Maximum in LtoS"
   ]
  },
  {
   "cell_type": "code",
   "execution_count": 13,
   "metadata": {},
   "outputs": [
    {
     "name": "stdout",
     "output_type": "stream",
     "text": [
      "Minimum Value =  2\n",
      "Maximum Value =  9\n"
     ]
    }
   ],
   "source": [
    "print(\"Minimum Value = \", min(LtoS))\n",
    "print(\"Maximum Value = \", max(LtoS))"
   ]
  },
  {
   "cell_type": "markdown",
   "metadata": {},
   "source": [
    "# Remove Element from LtoS"
   ]
  },
  {
   "cell_type": "code",
   "execution_count": 18,
   "metadata": {},
   "outputs": [
    {
     "name": "stdout",
     "output_type": "stream",
     "text": [
      "Set =  set()\n"
     ]
    }
   ],
   "source": [
    "LtoS.clear()\n",
    "print(\"Set = \", LtoS)"
   ]
  },
  {
   "cell_type": "markdown",
   "metadata": {},
   "source": [
    "# Paragram OR Not"
   ]
  },
  {
   "cell_type": "code",
   "execution_count": 22,
   "metadata": {},
   "outputs": [
    {
     "name": "stdout",
     "output_type": "stream",
     "text": [
      "{'o', 'e', 'i', 'a', 'm', 'l', 'd', 'g', 'y', 'h', 'b'}\n",
      "NOT a Pangram String\n"
     ]
    }
   ],
   "source": [
    "givenString = \"Hello, I'm a good boy\"\n",
    "givenString = givenString.lower().replace(' ', '').replace(',', '').replace(\"'\", \"\")\n",
    "\n",
    "givenString = set(givenString)\n",
    "print(givenString)\n",
    "\n",
    "if len(givenString) == 26:\n",
    "    print(\"Pangram String\")\n",
    "else:\n",
    "    print(\"NOT a Pangram String\")"
   ]
  }
 ],
 "metadata": {
  "kernelspec": {
   "display_name": "Python 3.10.5 64-bit",
   "language": "python",
   "name": "python3"
  },
  "language_info": {
   "codemirror_mode": {
    "name": "ipython",
    "version": 3
   },
   "file_extension": ".py",
   "mimetype": "text/x-python",
   "name": "python",
   "nbconvert_exporter": "python",
   "pygments_lexer": "ipython3",
   "version": "3.10.5"
  },
  "orig_nbformat": 4,
  "vscode": {
   "interpreter": {
    "hash": "6725b65d2bc9b383de4e8ea8d550ee3e56f84680ef7bf6138363b00cd2ed30f8"
   }
  }
 },
 "nbformat": 4,
 "nbformat_minor": 2
}
