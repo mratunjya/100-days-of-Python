{
 "cells": [
  {
   "cell_type": "markdown",
   "id": "6b7b7452",
   "metadata": {},
   "source": [
    "# List of Prime numbers from 1 to 50"
   ]
  },
  {
   "cell_type": "code",
   "execution_count": 11,
   "id": "9b6cde79",
   "metadata": {},
   "outputs": [
    {
     "name": "stdout",
     "output_type": "stream",
     "text": [
      "[2, 3, 5, 7, 11, 13, 17, 19, 23, 29, 31, 37, 41, 43, 47]\n"
     ]
    }
   ],
   "source": [
    "l = []\n",
    "\n",
    "for i in range(2, 51):\n",
    "    c = 0\n",
    "    for j in range(2, i):\n",
    "        if(i % j == 0):\n",
    "            c = c + 1\n",
    "\n",
    "    if(c == 0):\n",
    "        l.append(i)\n",
    "\n",
    "print(l)"
   ]
  },
  {
   "cell_type": "markdown",
   "id": "5d9595c5",
   "metadata": {},
   "source": [
    "# Insert an Element at a given Index"
   ]
  },
  {
   "cell_type": "code",
   "execution_count": 12,
   "id": "9a9809fc",
   "metadata": {},
   "outputs": [
    {
     "name": "stdout",
     "output_type": "stream",
     "text": [
      "[2, 3, 5, 7, 11, 10, 13, 17, 19, 23, 29, 31, 37, 41, 43, 47]\n"
     ]
    }
   ],
   "source": [
    "ind = eval(input(\"Enter the index at which you want to insert an integer: \"))\n",
    "n = eval(input(f\"Enter the number which you want to insert at {ind}: \"))\n",
    "l.insert(ind, n)\n",
    "\n",
    "print(l)"
   ]
  },
  {
   "cell_type": "markdown",
   "id": "638b6975",
   "metadata": {},
   "source": [
    "# Remove the Inserted Element"
   ]
  },
  {
   "cell_type": "code",
   "execution_count": 13,
   "id": "571ed1af",
   "metadata": {},
   "outputs": [
    {
     "name": "stdout",
     "output_type": "stream",
     "text": [
      "[2, 3, 5, 7, 11, 13, 17, 19, 23, 29, 31, 37, 41, 43, 47]\n"
     ]
    }
   ],
   "source": [
    "l.pop(ind)\n",
    "print(l)"
   ]
  },
  {
   "cell_type": "markdown",
   "id": "1566268f",
   "metadata": {},
   "source": [
    "# Sort the list"
   ]
  },
  {
   "cell_type": "code",
   "execution_count": 14,
   "id": "a49a04d2",
   "metadata": {},
   "outputs": [
    {
     "name": "stdout",
     "output_type": "stream",
     "text": [
      "[2, 3, 5, 7, 11, 13, 17, 19, 23, 29, 31, 37, 41, 43, 47]\n"
     ]
    }
   ],
   "source": [
    "l.sort()\n",
    "print(l)"
   ]
  },
  {
   "cell_type": "markdown",
   "id": "7fea7ac0",
   "metadata": {},
   "source": [
    "# Pop the last element"
   ]
  },
  {
   "cell_type": "code",
   "execution_count": 15,
   "id": "8bde3204",
   "metadata": {},
   "outputs": [
    {
     "name": "stdout",
     "output_type": "stream",
     "text": [
      "[2, 3, 5, 7, 11, 13, 17, 19, 23, 29, 31, 37, 41, 43]\n"
     ]
    }
   ],
   "source": [
    "l.pop()\n",
    "print(l)"
   ]
  },
  {
   "cell_type": "markdown",
   "id": "79107d05",
   "metadata": {},
   "source": [
    "# Reverse a list"
   ]
  },
  {
   "cell_type": "code",
   "execution_count": 17,
   "id": "3ae7c5a2",
   "metadata": {},
   "outputs": [
    {
     "name": "stdout",
     "output_type": "stream",
     "text": [
      "[43, 41, 37, 31, 29, 23, 19, 17, 13, 11, 7, 5, 3, 2]\n"
     ]
    }
   ],
   "source": [
    "l.sort(reverse = True)\n",
    "print(l)"
   ]
  },
  {
   "cell_type": "markdown",
   "id": "74389a25",
   "metadata": {},
   "source": [
    "# Find Largest and the Second largest number from the list"
   ]
  },
  {
   "cell_type": "code",
   "execution_count": 18,
   "id": "91519ac8",
   "metadata": {},
   "outputs": [
    {
     "name": "stdout",
     "output_type": "stream",
     "text": [
      "Largest: 43\n",
      "Second Largest: 41\n"
     ]
    }
   ],
   "source": [
    "print(f\"Largest: {l[0]}\")\n",
    "print(f\"Second Largest: {l[1]}\")"
   ]
  },
  {
   "cell_type": "markdown",
   "id": "2182af0c",
   "metadata": {},
   "source": [
    "# Count the number of vowels using list"
   ]
  },
  {
   "cell_type": "code",
   "execution_count": 22,
   "id": "17c23a37",
   "metadata": {},
   "outputs": [
    {
     "name": "stdout",
     "output_type": "stream",
     "text": [
      "['h', 'a', 'r', 's', 'h', ' ', 's', 'h', 'a', 'r', 'm', 'a']\n",
      "No. of vowels: 3\n"
     ]
    }
   ],
   "source": [
    "l1 = list(\"Harsh Sharma\".lower())\n",
    "print(l1)\n",
    "\n",
    "v = 0\n",
    "\n",
    "for item in l1:\n",
    "    if(item == 'a' or item == 'e' or item == 'i' or item == 'o' or item == 'u'):\n",
    "        v = v + 1\n",
    "\n",
    "print(f\"No. of vowels: {v}\")"
   ]
  }
 ],
 "metadata": {
  "kernelspec": {
   "display_name": "Python 3.10.5 64-bit",
   "language": "python",
   "name": "python3"
  },
  "language_info": {
   "codemirror_mode": {
    "name": "ipython",
    "version": 3
   },
   "file_extension": ".py",
   "mimetype": "text/x-python",
   "name": "python",
   "nbconvert_exporter": "python",
   "pygments_lexer": "ipython3",
   "version": "3.10.5"
  },
  "vscode": {
   "interpreter": {
    "hash": "6725b65d2bc9b383de4e8ea8d550ee3e56f84680ef7bf6138363b00cd2ed30f8"
   }
  }
 },
 "nbformat": 4,
 "nbformat_minor": 5
}
