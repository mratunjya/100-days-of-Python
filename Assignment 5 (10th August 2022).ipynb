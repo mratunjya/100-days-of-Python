{
 "cells": [
  {
   "cell_type": "markdown",
   "metadata": {},
   "source": [
    "# Taking Matix Input from User"
   ]
  },
  {
   "cell_type": "code",
   "execution_count": 1,
   "metadata": {},
   "outputs": [
    {
     "name": "stdout",
     "output_type": "stream",
     "text": [
      "Enter Matrix 1 Elements: \n",
      "1\n",
      "2\n",
      "3\n",
      "4\n",
      "5\n",
      "6\n",
      "7\n",
      "8\n",
      "9\n",
      "Printing First Matrix .....\n",
      "[[1 2 3]\n",
      " [4 5 6]\n",
      " [7 8 9]]\n",
      "Enter Matrix 2 Elements: \n",
      "10\n",
      "11\n",
      "12\n",
      "13\n",
      "14\n",
      "15\n",
      "16\n",
      "17\n",
      "18\n",
      "Printing Second Matrix .....\n",
      "[[10 11 12]\n",
      " [13 14 15]\n",
      " [16 17 18]]\n"
     ]
    }
   ],
   "source": [
    "import numpy as np\n",
    "\n",
    "L1 = []\n",
    "L2 = []\n",
    "\n",
    "print(\"Enter Matrix 1 Elements: \")\n",
    "\n",
    "for i in range(0, 9):\n",
    "    L1.append(eval(input()))\n",
    "\n",
    "M1 = np.array(L1)\n",
    "M1 = M1.reshape(3, 3)\n",
    "\n",
    "print(\"Printing First Matrix .....\")\n",
    "\n",
    "print(M1)\n",
    "\n",
    "print(\"Enter Matrix 2 Elements: \")\n",
    "\n",
    "for i in range(0, 9):\n",
    "    L2.append(eval(input()))\n",
    "\n",
    "M2 = np.array(L2)\n",
    "M2 = M2.reshape(3, 3)\n",
    "\n",
    "print(\"Printing Second Matrix .....\")\n",
    "\n",
    "print(M2)"
   ]
  },
  {
   "cell_type": "markdown",
   "metadata": {},
   "source": [
    "# Matrix Addition, Subtraction and Division"
   ]
  },
  {
   "cell_type": "code",
   "execution_count": 2,
   "metadata": {},
   "outputs": [
    {
     "name": "stdout",
     "output_type": "stream",
     "text": [
      "Addition of both the Matrices is \n",
      " [[11 13 15]\n",
      " [17 19 21]\n",
      " [23 25 27]]\n",
      "Subtraction of both the Matrices is \n",
      " [[9 9 9]\n",
      " [9 9 9]\n",
      " [9 9 9]]\n",
      "Division between both the Matrices is \n",
      " [[10.          5.5         4.        ]\n",
      " [ 3.25        2.8         2.5       ]\n",
      " [ 2.28571429  2.125       2.        ]]\n"
     ]
    }
   ],
   "source": [
    "M3 = np.add(M1, M2)\n",
    "print(\"Addition of both the Matrices is \\n\", M3)\n",
    "\n",
    "M4 = np.subtract(M2, M1)\n",
    "print(\"Subtraction of both the Matrices is \\n\", M4)\n",
    "\n",
    "M5 = np.divide(M2, M1)\n",
    "print(\"Division between both the Matrices is \\n\", M5)"
   ]
  },
  {
   "cell_type": "markdown",
   "metadata": {},
   "source": [
    "# Matrix Multiplication using loop"
   ]
  },
  {
   "cell_type": "code",
   "execution_count": 3,
   "metadata": {},
   "outputs": [
    {
     "name": "stdout",
     "output_type": "stream",
     "text": [
      "[[ 84  90  96]\n",
      " [201 216 231]\n",
      " [318 342 366]]\n"
     ]
    }
   ],
   "source": [
    "L3 = []\n",
    "\n",
    "M6 = np.zeros((3, 3), np.int32)\n",
    "\n",
    "for i in range(0, 3):\n",
    "    for j in range(0, 3):\n",
    "        for k in range(0, 3):\n",
    "            M6[i][j] += M1[i][k] * M2[k][j]\n",
    "\n",
    "print(M6)"
   ]
  },
  {
   "cell_type": "markdown",
   "metadata": {},
   "source": [
    "# Matrix Multiplication without loop"
   ]
  },
  {
   "cell_type": "code",
   "execution_count": 4,
   "metadata": {},
   "outputs": [
    {
     "name": "stdout",
     "output_type": "stream",
     "text": [
      "[[ 84  90  96]\n",
      " [201 216 231]\n",
      " [318 342 366]]\n"
     ]
    }
   ],
   "source": [
    "M7 = np.matmul(M1, M2)\n",
    "\n",
    "print(M7)"
   ]
  },
  {
   "cell_type": "markdown",
   "metadata": {},
   "source": [
    "# Matrix Transpose"
   ]
  },
  {
   "cell_type": "code",
   "execution_count": 5,
   "metadata": {},
   "outputs": [
    {
     "name": "stdout",
     "output_type": "stream",
     "text": [
      "Transpose of the First Matrix which you have entered ....\n",
      "[[1 4 7]\n",
      " [2 5 8]\n",
      " [3 6 9]]\n",
      "Transpose of the Second Matrix which you have entered ....\n",
      "[[10 13 16]\n",
      " [11 14 17]\n",
      " [12 15 18]]\n"
     ]
    }
   ],
   "source": [
    "M8 = M1.transpose()\n",
    "M9 = M2.transpose()\n",
    "\n",
    "print(\"Transpose of the First Matrix which you have entered ....\")\n",
    "print(M8)\n",
    "\n",
    "print(\"Transpose of the Second Matrix which you have entered ....\")\n",
    "print(M9)"
   ]
  }
 ],
 "metadata": {
  "kernelspec": {
   "display_name": "Python 3 (ipykernel)",
   "language": "python",
   "name": "python3"
  },
  "language_info": {
   "codemirror_mode": {
    "name": "ipython",
    "version": 3
   },
   "file_extension": ".py",
   "mimetype": "text/x-python",
   "name": "python",
   "nbconvert_exporter": "python",
   "pygments_lexer": "ipython3",
   "version": "3.10.5"
  },
  "vscode": {
   "interpreter": {
    "hash": "6725b65d2bc9b383de4e8ea8d550ee3e56f84680ef7bf6138363b00cd2ed30f8"
   }
  }
 },
 "nbformat": 4,
 "nbformat_minor": 2
}
