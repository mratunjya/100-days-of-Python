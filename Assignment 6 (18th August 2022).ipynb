{
 "cells": [
  {
   "cell_type": "code",
   "execution_count": 1,
   "id": "99241d6e",
   "metadata": {},
   "outputs": [],
   "source": [
    "studentList = []"
   ]
  },
  {
   "cell_type": "code",
   "execution_count": 2,
   "id": "197d804b",
   "metadata": {},
   "outputs": [],
   "source": [
    "def addStudent():\n",
    "    name = input(\"Enter Student's name: \")\n",
    "    roll = eval(input(\"Enter Student's roll no.: \"))\n",
    "    marks = eval(input(\"Enter Student's marks: \"))\n",
    "\n",
    "    for i in range(len(studentList)):\n",
    "        if(studentList[i][1] == roll):\n",
    "            print(\"Roll no. already exists in the list\")\n",
    "            return\n",
    "\n",
    "    studentList.append([name, roll, marks])\n",
    "    print(studentList)"
   ]
  },
  {
   "cell_type": "code",
   "execution_count": 3,
   "id": "5c72c096",
   "metadata": {},
   "outputs": [],
   "source": [
    "def removeStudent():\n",
    "    roll = eval(input(\"Enter Student's roll no.: \"))\n",
    "    for i in range(len(studentList)):\n",
    "        if(studentList[i][1] == roll):\n",
    "            studentList.pop(i)\n",
    "            break\n",
    "    print(studentList)"
   ]
  },
  {
   "cell_type": "code",
   "execution_count": 4,
   "id": "1515b00e",
   "metadata": {},
   "outputs": [],
   "source": [
    "def updateStudentDetails():\n",
    "    roll = eval(input(\"Enter Student's roll no.: \"))\n",
    "    for i in range(len(studentList)):\n",
    "        if(studentList[i][1] == roll):\n",
    "            print(\"Current Student's details -\")\n",
    "            print(\"Student's name: \", studentList[i][0])\n",
    "            print(\"Student's roll no.: \", studentList[i][1])\n",
    "            print(\"Student's marks: \", studentList[i][2])\n",
    "            print(\"\\nEnter new details -\")\n",
    "            name = input(\"Enter Student's name: \")\n",
    "            roll = eval(input(\"Enter Student's roll no.: \"))\n",
    "            marks = eval(input(\"Enter Student's marks: \"))\n",
    "            studentList[i] = [name, roll, marks]\n",
    "            break\n",
    "    print(studentList)"
   ]
  },
  {
   "cell_type": "code",
   "execution_count": 5,
   "id": "cfffb605",
   "metadata": {},
   "outputs": [],
   "source": [
    "def sortStudentList():\n",
    "    studentList.sort(key = lambda x: x[1])\n",
    "    print(studentList)"
   ]
  },
  {
   "cell_type": "code",
   "execution_count": 6,
   "id": "e4c70d49",
   "metadata": {},
   "outputs": [
    {
     "name": "stdout",
     "output_type": "stream",
     "text": [
      "Greetings User ...\n"
     ]
    }
   ],
   "source": [
    "print(\"Greetings User ...\")"
   ]
  },
  {
   "cell_type": "code",
   "execution_count": null,
   "id": "10c72a6a",
   "metadata": {},
   "outputs": [
    {
     "name": "stdout",
     "output_type": "stream",
     "text": [
      "\n",
      "\n",
      " ******************************** \n",
      "1. Add Student\n",
      "2. Remove Student\n",
      "3. Update Student Data\n",
      "4. Show Students\n",
      "5. Sort Students List\n",
      "6. Exit\n",
      "Which operation would you like to perform?\n",
      "Choose appropriate option(s): 1\n",
      "Enter Student's name: Mratunjya Shankhdhar\n",
      "Enter Student's roll no.: 38\n",
      "Enter Student's marks: 350\n",
      "[['Mratunjya Shankhdhar', 38, 350]]\n",
      "\n",
      "\n",
      " ******************************** \n",
      "1. Add Student\n",
      "2. Remove Student\n",
      "3. Update Student Data\n",
      "4. Show Students\n",
      "5. Sort Students List\n",
      "6. Exit\n",
      "Which operation would you like to perform?\n",
      "Choose appropriate option(s): 1\n",
      "Enter Student's name: Mratunjya Shankhdhar\n",
      "Enter Student's roll no.: 38\n",
      "Enter Student's marks: 350\n",
      "Roll no. already exists in the list\n",
      "\n",
      "\n",
      " ******************************** \n",
      "1. Add Student\n",
      "2. Remove Student\n",
      "3. Update Student Data\n",
      "4. Show Students\n",
      "5. Sort Students List\n",
      "6. Exit\n",
      "Which operation would you like to perform?\n",
      "Choose appropriate option(s): 1\n",
      "Enter Student's name: Harsh Sharma\n",
      "Enter Student's roll no.: 13\n",
      "Enter Student's marks: 450\n",
      "[['Mratunjya Shankhdhar', 38, 350], ['Harsh Sharma', 13, 450]]\n",
      "\n",
      "\n",
      " ******************************** \n",
      "1. Add Student\n",
      "2. Remove Student\n",
      "3. Update Student Data\n",
      "4. Show Students\n",
      "5. Sort Students List\n",
      "6. Exit\n",
      "Which operation would you like to perform?\n",
      "Choose appropriate option(s): 5\n",
      "[['Harsh Sharma', 13, 450], ['Mratunjya Shankhdhar', 38, 350]]\n",
      "\n",
      "\n",
      " ******************************** \n",
      "1. Add Student\n",
      "2. Remove Student\n",
      "3. Update Student Data\n",
      "4. Show Students\n",
      "5. Sort Students List\n",
      "6. Exit\n",
      "Which operation would you like to perform?\n",
      "Choose appropriate option(s): 4\n",
      "[['Harsh Sharma', 13, 450], ['Mratunjya Shankhdhar', 38, 350]]\n",
      "\n",
      "\n",
      " ******************************** \n",
      "1. Add Student\n",
      "2. Remove Student\n",
      "3. Update Student Data\n",
      "4. Show Students\n",
      "5. Sort Students List\n",
      "6. Exit\n",
      "Which operation would you like to perform?\n"
     ]
    }
   ],
   "source": [
    "while(True):\n",
    "    print(\"\\n\\n ******************************** \")\n",
    "    print(\"1. Add Student\")\n",
    "    print(\"2. Remove Student\")\n",
    "    print(\"3. Update Student Data\")\n",
    "    print(\"4. Show Students\")\n",
    "    print(\"5. Sort Students List\")\n",
    "    print(\"6. Exit\")\n",
    "    print(\"Which operation would you like to perform?\")\n",
    "    n = eval(input(\"Choose appropriate option(s): \"))\n",
    "\n",
    "    if(n == 1):\n",
    "        addStudent()\n",
    "    elif(n == 2):\n",
    "        removeStudent()\n",
    "    elif(n == 3):\n",
    "        updateStudentDetails()\n",
    "    elif(n == 4):\n",
    "        print(studentList)\n",
    "    elif(n == 5):\n",
    "        sortStudentList()\n",
    "    elif(n == 6):\n",
    "        print(\"Good Bye, See You Again ...\")\n",
    "        break\n",
    "    else:\n",
    "        print(\"Wrong Choice!\")\n",
    "        print(\"Try Again\")"
   ]
  },
  {
   "cell_type": "code",
   "execution_count": null,
   "id": "2e2956f3",
   "metadata": {},
   "outputs": [],
   "source": []
  }
 ],
 "metadata": {
  "kernelspec": {
   "display_name": "Python 3 (ipykernel)",
   "language": "python",
   "name": "python3"
  },
  "language_info": {
   "codemirror_mode": {
    "name": "ipython",
    "version": 3
   },
   "file_extension": ".py",
   "mimetype": "text/x-python",
   "name": "python",
   "nbconvert_exporter": "python",
   "pygments_lexer": "ipython3",
   "version": "3.10.5"
  },
  "vscode": {
   "interpreter": {
    "hash": "6725b65d2bc9b383de4e8ea8d550ee3e56f84680ef7bf6138363b00cd2ed30f8"
   }
  }
 },
 "nbformat": 4,
 "nbformat_minor": 5
}
